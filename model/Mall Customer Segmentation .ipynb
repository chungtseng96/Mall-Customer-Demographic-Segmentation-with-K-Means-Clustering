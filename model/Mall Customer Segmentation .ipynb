{
 "cells": [
  {
   "cell_type": "markdown",
   "metadata": {},
   "source": [
    "# Clustering Mall Customer Demographic Data"
   ]
  },
  {
   "cell_type": "code",
   "execution_count": 1,
   "metadata": {},
   "outputs": [],
   "source": [
    "#Import basic packages\n",
    "import pandas as pd \n",
    "import numpy as np \n",
    "import seaborn as sns\n",
    "import matplotlib.pyplot as plt"
   ]
  },
  {
   "cell_type": "code",
   "execution_count": 113,
   "metadata": {},
   "outputs": [
    {
     "data": {
      "text/html": [
       "<div>\n",
       "<style scoped>\n",
       "    .dataframe tbody tr th:only-of-type {\n",
       "        vertical-align: middle;\n",
       "    }\n",
       "\n",
       "    .dataframe tbody tr th {\n",
       "        vertical-align: top;\n",
       "    }\n",
       "\n",
       "    .dataframe thead th {\n",
       "        text-align: right;\n",
       "    }\n",
       "</style>\n",
       "<table border=\"1\" class=\"dataframe\">\n",
       "  <thead>\n",
       "    <tr style=\"text-align: right;\">\n",
       "      <th></th>\n",
       "      <th>CustomerID</th>\n",
       "      <th>Genre</th>\n",
       "      <th>Age</th>\n",
       "      <th>Annual Income (k$)</th>\n",
       "      <th>Spending Score (1-100)</th>\n",
       "    </tr>\n",
       "  </thead>\n",
       "  <tbody>\n",
       "    <tr>\n",
       "      <th>0</th>\n",
       "      <td>1</td>\n",
       "      <td>Male</td>\n",
       "      <td>19</td>\n",
       "      <td>15</td>\n",
       "      <td>39</td>\n",
       "    </tr>\n",
       "    <tr>\n",
       "      <th>1</th>\n",
       "      <td>2</td>\n",
       "      <td>Male</td>\n",
       "      <td>21</td>\n",
       "      <td>15</td>\n",
       "      <td>81</td>\n",
       "    </tr>\n",
       "    <tr>\n",
       "      <th>2</th>\n",
       "      <td>3</td>\n",
       "      <td>Female</td>\n",
       "      <td>20</td>\n",
       "      <td>16</td>\n",
       "      <td>6</td>\n",
       "    </tr>\n",
       "    <tr>\n",
       "      <th>3</th>\n",
       "      <td>4</td>\n",
       "      <td>Female</td>\n",
       "      <td>23</td>\n",
       "      <td>16</td>\n",
       "      <td>77</td>\n",
       "    </tr>\n",
       "    <tr>\n",
       "      <th>4</th>\n",
       "      <td>5</td>\n",
       "      <td>Female</td>\n",
       "      <td>31</td>\n",
       "      <td>17</td>\n",
       "      <td>40</td>\n",
       "    </tr>\n",
       "  </tbody>\n",
       "</table>\n",
       "</div>"
      ],
      "text/plain": [
       "   CustomerID   Genre  Age  Annual Income (k$)  Spending Score (1-100)\n",
       "0           1    Male   19                  15                      39\n",
       "1           2    Male   21                  15                      81\n",
       "2           3  Female   20                  16                       6\n",
       "3           4  Female   23                  16                      77\n",
       "4           5  Female   31                  17                      40"
      ]
     },
     "execution_count": 113,
     "metadata": {},
     "output_type": "execute_result"
    }
   ],
   "source": [
    "#Import dataset \n",
    "#file = '//Users//chung-tsengwang//Desktop//ALL DATA SCIENCE//Website Projects//Mall Demo//data//raw//Mall_Customers.csv'\n",
    "file = 'C:\\\\Users\\\\Chung-Tseng Wang\\\\Desktop\\\\Mall-Customer-Demographic-Segmentation-with-K-Means-Clustering\\\\data\\\\raw\\\\Mall_Customers.csv'\n",
    "data = pd.read_csv(file)\n",
    "data.head()"
   ]
  },
  {
   "cell_type": "code",
   "execution_count": 87,
   "metadata": {},
   "outputs": [
    {
     "data": {
      "text/html": [
       "<div>\n",
       "<style scoped>\n",
       "    .dataframe tbody tr th:only-of-type {\n",
       "        vertical-align: middle;\n",
       "    }\n",
       "\n",
       "    .dataframe tbody tr th {\n",
       "        vertical-align: top;\n",
       "    }\n",
       "\n",
       "    .dataframe thead th {\n",
       "        text-align: right;\n",
       "    }\n",
       "</style>\n",
       "<table border=\"1\" class=\"dataframe\">\n",
       "  <thead>\n",
       "    <tr style=\"text-align: right;\">\n",
       "      <th></th>\n",
       "      <th>CustomerID</th>\n",
       "      <th>Gender</th>\n",
       "      <th>Age</th>\n",
       "      <th>Annual_Income</th>\n",
       "      <th>Spending_Score</th>\n",
       "    </tr>\n",
       "  </thead>\n",
       "  <tbody>\n",
       "    <tr>\n",
       "      <th>0</th>\n",
       "      <td>1</td>\n",
       "      <td>1</td>\n",
       "      <td>19</td>\n",
       "      <td>15</td>\n",
       "      <td>39</td>\n",
       "    </tr>\n",
       "    <tr>\n",
       "      <th>1</th>\n",
       "      <td>2</td>\n",
       "      <td>1</td>\n",
       "      <td>21</td>\n",
       "      <td>15</td>\n",
       "      <td>81</td>\n",
       "    </tr>\n",
       "    <tr>\n",
       "      <th>2</th>\n",
       "      <td>3</td>\n",
       "      <td>0</td>\n",
       "      <td>20</td>\n",
       "      <td>16</td>\n",
       "      <td>6</td>\n",
       "    </tr>\n",
       "    <tr>\n",
       "      <th>3</th>\n",
       "      <td>4</td>\n",
       "      <td>0</td>\n",
       "      <td>23</td>\n",
       "      <td>16</td>\n",
       "      <td>77</td>\n",
       "    </tr>\n",
       "    <tr>\n",
       "      <th>4</th>\n",
       "      <td>5</td>\n",
       "      <td>0</td>\n",
       "      <td>31</td>\n",
       "      <td>17</td>\n",
       "      <td>40</td>\n",
       "    </tr>\n",
       "  </tbody>\n",
       "</table>\n",
       "</div>"
      ],
      "text/plain": [
       "   CustomerID  Gender  Age  Annual_Income  Spending_Score\n",
       "0           1       1   19             15              39\n",
       "1           2       1   21             15              81\n",
       "2           3       0   20             16               6\n",
       "3           4       0   23             16              77\n",
       "4           5       0   31             17              40"
      ]
     },
     "execution_count": 87,
     "metadata": {},
     "output_type": "execute_result"
    }
   ],
   "source": [
    "#Binarize Gender column\n",
    "from sklearn.preprocessing import LabelBinarizer\n",
    "lb = LabelBinarizer()\n",
    "lb.fit(data.Genre)\n",
    "lb.classes_\n",
    "data.Genre = lb.transform(data.Genre)\n",
    "data = data.rename(columns = {'Genre':'Gender','Annual Income (k$)':'Annual_Income','Spending Score (1-100)':'Spending_Score'})\n",
    "data.head()"
   ]
  },
  {
   "cell_type": "code",
   "execution_count": 88,
   "metadata": {},
   "outputs": [
    {
     "name": "stdout",
     "output_type": "stream",
     "text": [
      "<class 'pandas.core.frame.DataFrame'>\n",
      "RangeIndex: 200 entries, 0 to 199\n",
      "Data columns (total 5 columns):\n",
      "CustomerID        200 non-null int64\n",
      "Gender            200 non-null int32\n",
      "Age               200 non-null int64\n",
      "Annual_Income     200 non-null int64\n",
      "Spending_Score    200 non-null int64\n",
      "dtypes: int32(1), int64(4)\n",
      "memory usage: 7.1 KB\n"
     ]
    }
   ],
   "source": [
    "data.info()"
   ]
  },
  {
   "cell_type": "code",
   "execution_count": 89,
   "metadata": {},
   "outputs": [
    {
     "data": {
      "text/html": [
       "<div>\n",
       "<style scoped>\n",
       "    .dataframe tbody tr th:only-of-type {\n",
       "        vertical-align: middle;\n",
       "    }\n",
       "\n",
       "    .dataframe tbody tr th {\n",
       "        vertical-align: top;\n",
       "    }\n",
       "\n",
       "    .dataframe thead th {\n",
       "        text-align: right;\n",
       "    }\n",
       "</style>\n",
       "<table border=\"1\" class=\"dataframe\">\n",
       "  <thead>\n",
       "    <tr style=\"text-align: right;\">\n",
       "      <th></th>\n",
       "      <th>CustomerID</th>\n",
       "      <th>Gender</th>\n",
       "      <th>Age</th>\n",
       "      <th>Annual_Income</th>\n",
       "      <th>Spending_Score</th>\n",
       "    </tr>\n",
       "  </thead>\n",
       "  <tbody>\n",
       "    <tr>\n",
       "      <th>count</th>\n",
       "      <td>200.000000</td>\n",
       "      <td>200.000000</td>\n",
       "      <td>200.000000</td>\n",
       "      <td>200.000000</td>\n",
       "      <td>200.000000</td>\n",
       "    </tr>\n",
       "    <tr>\n",
       "      <th>mean</th>\n",
       "      <td>100.500000</td>\n",
       "      <td>0.440000</td>\n",
       "      <td>38.850000</td>\n",
       "      <td>60.560000</td>\n",
       "      <td>50.200000</td>\n",
       "    </tr>\n",
       "    <tr>\n",
       "      <th>std</th>\n",
       "      <td>57.879185</td>\n",
       "      <td>0.497633</td>\n",
       "      <td>13.969007</td>\n",
       "      <td>26.264721</td>\n",
       "      <td>25.823522</td>\n",
       "    </tr>\n",
       "    <tr>\n",
       "      <th>min</th>\n",
       "      <td>1.000000</td>\n",
       "      <td>0.000000</td>\n",
       "      <td>18.000000</td>\n",
       "      <td>15.000000</td>\n",
       "      <td>1.000000</td>\n",
       "    </tr>\n",
       "    <tr>\n",
       "      <th>25%</th>\n",
       "      <td>50.750000</td>\n",
       "      <td>0.000000</td>\n",
       "      <td>28.750000</td>\n",
       "      <td>41.500000</td>\n",
       "      <td>34.750000</td>\n",
       "    </tr>\n",
       "    <tr>\n",
       "      <th>50%</th>\n",
       "      <td>100.500000</td>\n",
       "      <td>0.000000</td>\n",
       "      <td>36.000000</td>\n",
       "      <td>61.500000</td>\n",
       "      <td>50.000000</td>\n",
       "    </tr>\n",
       "    <tr>\n",
       "      <th>75%</th>\n",
       "      <td>150.250000</td>\n",
       "      <td>1.000000</td>\n",
       "      <td>49.000000</td>\n",
       "      <td>78.000000</td>\n",
       "      <td>73.000000</td>\n",
       "    </tr>\n",
       "    <tr>\n",
       "      <th>max</th>\n",
       "      <td>200.000000</td>\n",
       "      <td>1.000000</td>\n",
       "      <td>70.000000</td>\n",
       "      <td>137.000000</td>\n",
       "      <td>99.000000</td>\n",
       "    </tr>\n",
       "  </tbody>\n",
       "</table>\n",
       "</div>"
      ],
      "text/plain": [
       "       CustomerID      Gender         Age  Annual_Income  Spending_Score\n",
       "count  200.000000  200.000000  200.000000     200.000000      200.000000\n",
       "mean   100.500000    0.440000   38.850000      60.560000       50.200000\n",
       "std     57.879185    0.497633   13.969007      26.264721       25.823522\n",
       "min      1.000000    0.000000   18.000000      15.000000        1.000000\n",
       "25%     50.750000    0.000000   28.750000      41.500000       34.750000\n",
       "50%    100.500000    0.000000   36.000000      61.500000       50.000000\n",
       "75%    150.250000    1.000000   49.000000      78.000000       73.000000\n",
       "max    200.000000    1.000000   70.000000     137.000000       99.000000"
      ]
     },
     "execution_count": 89,
     "metadata": {},
     "output_type": "execute_result"
    }
   ],
   "source": [
    "data.describe()"
   ]
  },
  {
   "cell_type": "code",
   "execution_count": 90,
   "metadata": {},
   "outputs": [
    {
     "data": {
      "text/plain": [
       "Index(['CustomerID', 'Gender', 'Age', 'Annual_Income', 'Spending_Score'], dtype='object')"
      ]
     },
     "execution_count": 90,
     "metadata": {},
     "output_type": "execute_result"
    }
   ],
   "source": [
    "data.columns"
   ]
  },
  {
   "cell_type": "markdown",
   "metadata": {},
   "source": [
    "## Exploratory Data Analysis"
   ]
  },
  {
   "cell_type": "code",
   "execution_count": 93,
   "metadata": {},
   "outputs": [
    {
     "name": "stderr",
     "output_type": "stream",
     "text": [
      "C:\\Users\\Chung-Tseng Wang\\Anaconda3\\lib\\site-packages\\matplotlib\\axes\\_axes.py:6462: UserWarning:\n",
      "\n",
      "The 'normed' kwarg is deprecated, and has been replaced by the 'density' kwarg.\n",
      "\n"
     ]
    },
    {
     "data": {
      "image/png": "[encoded data removed]",
      "text/plain": [
       "<Figure size 1440x504 with 3 Axes>"
      ]
     },
     "metadata": {},
     "output_type": "display_data"
    }
   ],
   "source": [
    "#Distribution charts\n",
    "%matplotlib inline\n",
    "sns.set(rc = {'figure.figsize':(20,7)})\n",
    "plot_num = 1\n",
    "for n in list(data[['Age','Annual_Income','Spending_Score']]):\n",
    "    plt.subplot(1,3,plot_num)\n",
    "    sns.distplot(data[n], bins = 20)\n",
    "    plt.xlabel(n)\n",
    "    plot_num += 1\n",
    "sns.set_style('dark')\n",
    "plt.show()"
   ]
  },
  {
   "cell_type": "code",
   "execution_count": 54,
   "metadata": {},
   "outputs": [
    {
     "data": {
      "text/plain": [
       "<matplotlib.axes._subplots.AxesSubplot at 0x1eb155e4710>"
      ]
     },
     "execution_count": 54,
     "metadata": {},
     "output_type": "execute_result"
    },
    {
     "data": {
      "image/png": "[encoded data removed]",
      "text/plain": [
       "<Figure size 1080x1080 with 1 Axes>"
      ]
     },
     "metadata": {},
     "output_type": "display_data"
    }
   ],
   "source": [
    "#Count plot for gender \n",
    "sns.set(style = 'darkgrid')\n",
    "sns.countplot(x = data.Gender, data = data)"
   ]
  },
  {
   "cell_type": "code",
   "execution_count": 122,
   "metadata": {},
   "outputs": [
    {
     "data": {
      "text/plain": [
       "Text(0.5,0,'Gender')"
      ]
     },
     "execution_count": 122,
     "metadata": {},
     "output_type": "execute_result"
    },
    {
     "data": {
      "image/png": "[encoded data removed]",
      "text/plain": [
       "<Figure size 576x720 with 1 Axes>"
      ]
     },
     "metadata": {},
     "output_type": "display_data"
    }
   ],
   "source": [
    "#Count plot for gender \n",
    "sns.set(style = 'darkgrid')\n",
    "plt.figure(1, figsize = (8,10))\n",
    "sns.countplot(x = data.Genre, data = data)\n",
    "plt.xlabel('Gender')"
   ]
  },
  {
   "cell_type": "code",
   "execution_count": 55,
   "metadata": {},
   "outputs": [
    {
     "data": {
      "text/plain": [
       "<seaborn.axisgrid.PairGrid at 0x1eb15446d30>"
      ]
     },
     "execution_count": 55,
     "metadata": {},
     "output_type": "execute_result"
    },
    {
     "data": {
      "image/png": "[encoded data removed]",
      "text/plain": [
       "<Figure size 540x540 with 12 Axes>"
      ]
     },
     "metadata": {},
     "output_type": "display_data"
    }
   ],
   "source": [
    "#Regression Pairplot\n",
    "sns.pairplot(data[['Age','Annual_Income','Spending_Score']], kind = 'reg')"
   ]
  },
  {
   "cell_type": "markdown",
   "metadata": {},
   "source": [
    "## Scaling Data"
   ]
  },
  {
   "cell_type": "code",
   "execution_count": 56,
   "metadata": {},
   "outputs": [],
   "source": [
    "import sklearn\n",
    "from sklearn.cluster import KMeans\n",
    "from mpl_toolkits.mplot3d import Axes3D \n",
    "from sklearn.preprocessing import scale\n",
    "import sklearn.metrics as sm \n",
    "from sklearn.metrics import confusion_matrix, classification_report\n",
    "%matplotlib inline "
   ]
  },
  {
   "cell_type": "code",
   "execution_count": 98,
   "metadata": {},
   "outputs": [
    {
     "data": {
      "text/html": [
       "<div>\n",
       "<style scoped>\n",
       "    .dataframe tbody tr th:only-of-type {\n",
       "        vertical-align: middle;\n",
       "    }\n",
       "\n",
       "    .dataframe tbody tr th {\n",
       "        vertical-align: top;\n",
       "    }\n",
       "\n",
       "    .dataframe thead th {\n",
       "        text-align: right;\n",
       "    }\n",
       "</style>\n",
       "<table border=\"1\" class=\"dataframe\">\n",
       "  <thead>\n",
       "    <tr style=\"text-align: right;\">\n",
       "      <th></th>\n",
       "      <th>Gender</th>\n",
       "      <th>Age</th>\n",
       "      <th>Annual_Income</th>\n",
       "      <th>Spending_Score</th>\n",
       "    </tr>\n",
       "  </thead>\n",
       "  <tbody>\n",
       "    <tr>\n",
       "      <th>0</th>\n",
       "      <td>1.128152</td>\n",
       "      <td>-1.424569</td>\n",
       "      <td>-1.738999</td>\n",
       "      <td>-0.434801</td>\n",
       "    </tr>\n",
       "    <tr>\n",
       "      <th>1</th>\n",
       "      <td>1.128152</td>\n",
       "      <td>-1.281035</td>\n",
       "      <td>-1.738999</td>\n",
       "      <td>1.195704</td>\n",
       "    </tr>\n",
       "    <tr>\n",
       "      <th>2</th>\n",
       "      <td>-0.886405</td>\n",
       "      <td>-1.352802</td>\n",
       "      <td>-1.700830</td>\n",
       "      <td>-1.715913</td>\n",
       "    </tr>\n",
       "    <tr>\n",
       "      <th>3</th>\n",
       "      <td>-0.886405</td>\n",
       "      <td>-1.137502</td>\n",
       "      <td>-1.700830</td>\n",
       "      <td>1.040418</td>\n",
       "    </tr>\n",
       "    <tr>\n",
       "      <th>4</th>\n",
       "      <td>-0.886405</td>\n",
       "      <td>-0.563369</td>\n",
       "      <td>-1.662660</td>\n",
       "      <td>-0.395980</td>\n",
       "    </tr>\n",
       "  </tbody>\n",
       "</table>\n",
       "</div>"
      ],
      "text/plain": [
       "     Gender       Age  Annual_Income  Spending_Score\n",
       "0  1.128152 -1.424569      -1.738999       -0.434801\n",
       "1  1.128152 -1.281035      -1.738999        1.195704\n",
       "2 -0.886405 -1.352802      -1.700830       -1.715913\n",
       "3 -0.886405 -1.137502      -1.700830        1.040418\n",
       "4 -0.886405 -0.563369      -1.662660       -0.395980"
      ]
     },
     "execution_count": 98,
     "metadata": {},
     "output_type": "execute_result"
    }
   ],
   "source": [
    "from sklearn.preprocessing import StandardScaler\n",
    "scaler = StandardScaler()\n",
    "X = pd.DataFrame(scaler.fit_transform(data[['Gender','Age','Annual_Income','Spending_Score']]))\n",
    "X.columns = ['Gender', 'Age', 'Annual_Income',\n",
    "       'Spending_Score']\n",
    "X.head()"
   ]
  },
  {
   "cell_type": "code",
   "execution_count": null,
   "metadata": {},
   "outputs": [],
   "source": []
  },
  {
   "cell_type": "markdown",
   "metadata": {},
   "source": [
    "## Building the model "
   ]
  },
  {
   "cell_type": "markdown",
   "metadata": {},
   "source": [
    "### Segmentation using Different Combinations "
   ]
  },
  {
   "cell_type": "code",
   "execution_count": 58,
   "metadata": {},
   "outputs": [],
   "source": [
    "income_spending = X[['Annual_Income','Spending_Score']]\n",
    "age_spending = X[['Age','Spending_Score']]\n",
    "age_income_spending = X[['Age','Spending_Score','Annual_Income']]"
   ]
  },
  {
   "cell_type": "markdown",
   "metadata": {},
   "source": [
    "### Optimizing number of clusters \n",
    "Objective: Minimize Within Cluster Sum of Square (WCSS) with the Elbow method. <br>\n",
    "As the number of cluster increases WCSS decreases.<br> When the number of clusters = number of instances WCSS = 0. <br>\n",
    "When we graph number of clusters against WCSS we will see an elbow graph.<br>\n",
    "On this elbow plot, the marginal decrease in WCSS decreases significantly at where the elbow bends.<br>\n",
    "This point will be our optimal number of clusters. "
   ]
  },
  {
   "cell_type": "code",
   "execution_count": 108,
   "metadata": {},
   "outputs": [],
   "source": [
    "def WCSS(segment):\n",
    "    WCSS = []\n",
    "    for n in range(1, 20):\n",
    "        clustering = (KMeans(n_clusters = n, n_init = 20, tol = 0.0001, random_state = 21, algorithm = 'auto'))\n",
    "        clustering.fit(segment)\n",
    "        WCSS.append(clustering.inertia_)\n",
    "    plt.figure(1, figsize = (9,7))\n",
    "    plt.plot(np.arange(1,20), WCSS, 'o')\n",
    "    plt.plot(np.arange(1,20), WCSS, '-', alpha = 0.5)\n",
    "    plt.xlabel('Number of Clusters')\n",
    "    plt.ylabel('WCSS')\n",
    "    plt.title('Number of Clusters vs WCSS')\n",
    "    plt.suptitle('Number of Clusters vs WCSS', color='w')\n",
    "    plt.show()\n",
    "    return WCSS"
   ]
  },
  {
   "cell_type": "code",
   "execution_count": 60,
   "metadata": {},
   "outputs": [],
   "source": [
    "def clustering(segment, k):\n",
    "    clustering = (KMeans(n_clusters = k, n_init = 20, tol = 0.0001, random_state = 21, algorithm = 'auto'))\n",
    "    clustering.fit(segment)\n",
    "    labels = clustering.labels_\n",
    "    centroids = clustering.cluster_centers_\n",
    "    WCSS = clustering.inertia_\n",
    "    data = [[labels,centroids, WCSS]]\n",
    "    output = pd.DataFrame(data, columns = ['labels','centroids','WCSS'])\n",
    "    return output"
   ]
  },
  {
   "cell_type": "code",
   "execution_count": 61,
   "metadata": {},
   "outputs": [],
   "source": [
    "def voroni_diagram(k):\n",
    "    plt.figure(1, figsize = (15,7))\n",
    "    plt.clf()\n",
    "    "
   ]
  },
  {
   "cell_type": "markdown",
   "metadata": {},
   "source": [
    "### Segmentation of Income and Spending Score "
   ]
  },
  {
   "cell_type": "code",
   "execution_count": 110,
   "metadata": {
    "scrolled": true
   },
   "outputs": [
    {
     "data": {
      "image/png": "[encoded data removed]",
      "text/plain": [
       "<Figure size 648x504 with 1 Axes>"
      ]
     },
     "metadata": {},
     "output_type": "display_data"
    },
    {
     "data": {
      "text/plain": [
       "[400.0,\n",
       " 269.1425070447922,\n",
       " 157.70400815035947,\n",
       " 108.92131661364357,\n",
       " 65.56840815571681,\n",
       " 55.057348270385994,\n",
       " 44.91118554999014,\n",
       " 37.18028799055898,\n",
       " 32.345837779566594,\n",
       " 29.115564557545756,\n",
       " 25.87705460441242,\n",
       " 23.450471424583707,\n",
       " 21.228620713994047,\n",
       " 19.644685327261914,\n",
       " 17.29302384153823,\n",
       " 16.209981771705298,\n",
       " 15.027140884606286,\n",
       " 13.933640619444937,\n",
       " 12.587280954217556]"
      ]
     },
     "execution_count": 110,
     "metadata": {},
     "output_type": "execute_result"
    }
   ],
   "source": [
    "#Annual income and spending score\n",
    "WCSS(income_spending)"
   ]
  },
  {
   "cell_type": "code",
   "execution_count": 63,
   "metadata": {},
   "outputs": [
    {
     "data": {
      "text/html": [
       "<div>\n",
       "<style scoped>\n",
       "    .dataframe tbody tr th:only-of-type {\n",
       "        vertical-align: middle;\n",
       "    }\n",
       "\n",
       "    .dataframe tbody tr th {\n",
       "        vertical-align: top;\n",
       "    }\n",
       "\n",
       "    .dataframe thead th {\n",
       "        text-align: right;\n",
       "    }\n",
       "</style>\n",
       "<table border=\"1\" class=\"dataframe\">\n",
       "  <thead>\n",
       "    <tr style=\"text-align: right;\">\n",
       "      <th></th>\n",
       "      <th>labels</th>\n",
       "      <th>centroids</th>\n",
       "      <th>WCSS</th>\n",
       "    </tr>\n",
       "  </thead>\n",
       "  <tbody>\n",
       "    <tr>\n",
       "      <th>0</th>\n",
       "      <td>[3, 0, 3, 0, 3, 0, 3, 0, 3, 0, 3, 0, 3, 0, 3, ...</td>\n",
       "      <td>[[-1.3295453164960271, 1.132177879659924], [1....</td>\n",
       "      <td>65.568408</td>\n",
       "    </tr>\n",
       "  </tbody>\n",
       "</table>\n",
       "</div>"
      ],
      "text/plain": [
       "                                              labels  \\\n",
       "0  [3, 0, 3, 0, 3, 0, 3, 0, 3, 0, 3, 0, 3, 0, 3, ...   \n",
       "\n",
       "                                           centroids       WCSS  \n",
       "0  [[-1.3295453164960271, 1.132177879659924], [1....  65.568408  "
      ]
     },
     "execution_count": 63,
     "metadata": {},
     "output_type": "execute_result"
    }
   ],
   "source": [
    "clustering(income_spending, 5)"
   ]
  },
  {
   "cell_type": "markdown",
   "metadata": {},
   "source": [
    "### Segmentation of Age and Spending Score "
   ]
  },
  {
   "cell_type": "code",
   "execution_count": 111,
   "metadata": {},
   "outputs": [
    {
     "data": {
      "image/png": "[encoded data removed]",
      "text/plain": [
       "<Figure size 648x504 with 1 Axes>"
      ]
     },
     "metadata": {},
     "output_type": "display_data"
    },
    {
     "data": {
      "text/plain": [
       "[399.99999999999994,\n",
       " 189.3874903399243,\n",
       " 124.32628617921529,\n",
       " 89.76521676586151,\n",
       " 71.09364141459412,\n",
       " 53.128438356294,\n",
       " 45.92039109051288,\n",
       " 39.205654420244954,\n",
       " 33.96106090559104,\n",
       " 28.753588308545307,\n",
       " 25.45873391068782,\n",
       " 23.217032870050666,\n",
       " 21.259251169843452,\n",
       " 19.791643781641064,\n",
       " 18.12338300021556,\n",
       " 16.46131698921271,\n",
       " 15.087537532519594,\n",
       " 14.319220312242944,\n",
       " 13.601735956062086]"
      ]
     },
     "execution_count": 111,
     "metadata": {},
     "output_type": "execute_result"
    }
   ],
   "source": [
    "#Age and spending score\n",
    "WCSS(age_spending)"
   ]
  },
  {
   "cell_type": "code",
   "execution_count": 65,
   "metadata": {},
   "outputs": [
    {
     "data": {
      "text/html": [
       "<div>\n",
       "<style scoped>\n",
       "    .dataframe tbody tr th:only-of-type {\n",
       "        vertical-align: middle;\n",
       "    }\n",
       "\n",
       "    .dataframe tbody tr th {\n",
       "        vertical-align: top;\n",
       "    }\n",
       "\n",
       "    .dataframe thead th {\n",
       "        text-align: right;\n",
       "    }\n",
       "</style>\n",
       "<table border=\"1\" class=\"dataframe\">\n",
       "  <thead>\n",
       "    <tr style=\"text-align: right;\">\n",
       "      <th></th>\n",
       "      <th>labels</th>\n",
       "      <th>centroids</th>\n",
       "      <th>WCSS</th>\n",
       "    </tr>\n",
       "  </thead>\n",
       "  <tbody>\n",
       "    <tr>\n",
       "      <th>0</th>\n",
       "      <td>[2, 1, 2, 1, 2, 1, 3, 1, 3, 1, 3, 1, 3, 1, 3, ...</td>\n",
       "      <td>[[1.2292717770850257, -0.06558365788288453], [...</td>\n",
       "      <td>89.765217</td>\n",
       "    </tr>\n",
       "  </tbody>\n",
       "</table>\n",
       "</div>"
      ],
      "text/plain": [
       "                                              labels  \\\n",
       "0  [2, 1, 2, 1, 2, 1, 3, 1, 3, 1, 3, 1, 3, 1, 3, ...   \n",
       "\n",
       "                                           centroids       WCSS  \n",
       "0  [[1.2292717770850257, -0.06558365788288453], [...  89.765217  "
      ]
     },
     "execution_count": 65,
     "metadata": {},
     "output_type": "execute_result"
    }
   ],
   "source": [
    "clustering(age_spending, 4)"
   ]
  },
  {
   "cell_type": "markdown",
   "metadata": {},
   "source": [
    "### Segmentation of Age, Annual Income, and Spending Score"
   ]
  },
  {
   "cell_type": "code",
   "execution_count": 112,
   "metadata": {},
   "outputs": [
    {
     "data": {
      "image/png": "[encoded data removed]",
      "text/plain": [
       "<Figure size 648x504 with 1 Axes>"
      ]
     },
     "metadata": {},
     "output_type": "display_data"
    },
    {
     "data": {
      "text/plain": [
       "[600.0,\n",
       " 389.3861889564372,\n",
       " 295.2122461555488,\n",
       " 205.22514747675916,\n",
       " 168.24758017556837,\n",
       " 133.86833362685584,\n",
       " 117.01155455889813,\n",
       " 103.82586112157725,\n",
       " 91.9674441390967,\n",
       " 81.54578352090964,\n",
       " 72.03271246999174,\n",
       " 68.07026749544032,\n",
       " 62.50873076192292,\n",
       " 59.05286485362851,\n",
       " 56.67521433296268,\n",
       " 53.42996723334559,\n",
       " 50.608688958029084,\n",
       " 48.212719858033076,\n",
       " 47.18587577405682]"
      ]
     },
     "execution_count": 112,
     "metadata": {},
     "output_type": "execute_result"
    }
   ],
   "source": [
    "#Age and Annual Income\n",
    "WCSS(age_income_spending)"
   ]
  },
  {
   "cell_type": "code",
   "execution_count": 67,
   "metadata": {},
   "outputs": [
    {
     "data": {
      "text/plain": [
       "array([0, 0, 3, 0, 0, 0, 3, 0, 3, 0, 3, 0, 3, 0, 3, 0, 3, 0, 3, 0, 3, 0,\n",
       "       3, 0, 3, 0, 3, 0, 3, 0, 3, 0, 3, 0, 3, 0, 3, 0, 3, 0, 1, 0, 3, 0,\n",
       "       3, 0, 1, 0, 0, 0, 1, 0, 0, 1, 1, 1, 1, 1, 0, 1, 1, 0, 1, 1, 1, 0,\n",
       "       1, 1, 0, 0, 1, 1, 1, 1, 1, 0, 1, 1, 0, 1, 1, 0, 1, 1, 0, 1, 1, 0,\n",
       "       0, 1, 1, 0, 1, 1, 0, 0, 1, 0, 1, 0, 0, 1, 1, 0, 1, 0, 1, 1, 1, 1,\n",
       "       1, 0, 2, 0, 0, 0, 1, 1, 1, 1, 0, 2, 4, 4, 2, 4, 2, 4, 2, 4, 2, 4,\n",
       "       2, 4, 2, 4, 2, 4, 2, 4, 2, 4, 2, 4, 2, 4, 2, 4, 2, 4, 2, 4, 2, 4,\n",
       "       2, 4, 2, 4, 2, 4, 1, 4, 2, 4, 2, 4, 2, 4, 2, 4, 2, 4, 2, 4, 2, 4,\n",
       "       2, 4, 2, 4, 2, 4, 2, 4, 2, 4, 2, 4, 2, 4, 2, 4, 2, 4, 2, 4, 2, 4,\n",
       "       2, 4])"
      ]
     },
     "execution_count": 67,
     "metadata": {},
     "output_type": "execute_result"
    }
   ],
   "source": [
    "clustering(age_income_spending, 5)['labels'][0]"
   ]
  },
  {
   "cell_type": "markdown",
   "metadata": {},
   "source": [
    "## Plotting Model Output"
   ]
  },
  {
   "cell_type": "code",
   "execution_count": 80,
   "metadata": {},
   "outputs": [
    {
     "data": {
      "application/vnd.plotly.v1+json": {
       "config": {
        "linkText": "Export to plot.ly",
        "plotlyServerURL": "https://plot.ly",
        "showLink": false
       },
       "data": [
        {
         "marker": {
          "color": [
           0,
           0,
           3,
           0,
           0,
           0,
           3,
           0,
           3,
           0,
           3,
           0,
           3,
           0,
           3,
           0,
           3,
           0,
           3,
           0,
           3,
           0,
           3,
           0,
           3,
           0,
           3,
           0,
           3,
           0,
           3,
           0,
           3,
           0,
           3,
           0,
           3,
           0,
           3,
           0,
           1,
           0,
           3,
           0,
           3,
           0,
           1,
           0,
           0,
           0,
           1,
           0,
           0,
           1,
           1,
           1,
           1,
           1,
           0,
           1,
           1,
           0,
           1,
           1,
           1,
           0,
           1,
           1,
           0,
           0,
           1,
           1,
           1,
           1,
           1,
           0,
           1,
           1,
           0,
           1,
           1,
           0,
           1,
           1,
           0,
           1,
           1,
           0,
           0,
           1,
           1,
           0,
           1,
           1,
           0,
           0,
           1,
           0,
           1,
           0,
           0,
           1,
           1,
           0,
           1,
           0,
           1,
           1,
           1,
           1,
           1,
           0,
           2,
           0,
           0,
           0,
           1,
           1,
           1,
           1,
           0,
           2,
           4,
           4,
           2,
           4,
           2,
           4,
           2,
           4,
           2,
           4,
           2,
           4,
           2,
           4,
           2,
           4,
           2,
           4,
           2,
           4,
           2,
           4,
           2,
           4,
           2,
           4,
           2,
           4,
           2,
           4,
           2,
           4,
           2,
           4,
           2,
           4,
           2,
           4,
           1,
           4,
           2,
           4,
           2,
           4,
           2,
           4,
           2,
           4,
           2,
           4,
           2,
           4,
           2,
           4,
           2,
           4,
           2,
           4,
           2,
           4,
           2,
           4,
           2,
           4,
           2,
           4,
           2,
           4,
           2,
           4,
           2,
           4,
           2,
           4,
           2,
           4,
           2,
           4
          ],
          "line": {
           "color": [
            0,
            0,
            3,
            0,
            0,
            0,
            3,
            0,
            3,
            0,
            3,
            0,
            3,
            0,
            3,
            0,
            3,
            0,
            3,
            0,
            3,
            0,
            3,
            0,
            3,
            0,
            3,
            0,
            3,
            0,
            3,
            0,
            3,
            0,
            3,
            0,
            3,
            0,
            3,
            0,
            1,
            0,
            3,
            0,
            3,
            0,
            1,
            0,
            0,
            0,
            1,
            0,
            0,
            1,
            1,
            1,
            1,
            1,
            0,
            1,
            1,
            0,
            1,
            1,
            1,
            0,
            1,
            1,
            0,
            0,
            1,
            1,
            1,
            1,
            1,
            0,
            1,
            1,
            0,
            1,
            1,
            0,
            1,
            1,
            0,
            1,
            1,
            0,
            0,
            1,
            1,
            0,
            1,
            1,
            0,
            0,
            1,
            0,
            1,
            0,
            0,
            1,
            1,
            0,
            1,
            0,
            1,
            1,
            1,
            1,
            1,
            0,
            2,
            0,
            0,
            0,
            1,
            1,
            1,
            1,
            0,
            2,
            4,
            4,
            2,
            4,
            2,
            4,
            2,
            4,
            2,
            4,
            2,
            4,
            2,
            4,
            2,
            4,
            2,
            4,
            2,
            4,
            2,
            4,
            2,
            4,
            2,
            4,
            2,
            4,
            2,
            4,
            2,
            4,
            2,
            4,
            2,
            4,
            2,
            4,
            1,
            4,
            2,
            4,
            2,
            4,
            2,
            4,
            2,
            4,
            2,
            4,
            2,
            4,
            2,
            4,
            2,
            4,
            2,
            4,
            2,
            4,
            2,
            4,
            2,
            4,
            2,
            4,
            2,
            4,
            2,
            4,
            2,
            4,
            2,
            4,
            2,
            4,
            2,
            4
           ]
          },
          "size": 20
         },
         "mode": "markers",
         "opacity": 0.8,
         "type": "scatter3d",
         "x": [
          -1.4245687900521393,
          -1.2810354107017978,
          -1.3528021003769686,
          -1.1375020313514563,
          -0.5633685139500905,
          -1.209268721026627,
          -0.2763017552494075,
          -1.1375020313514563,
          1.804932245330544,
          -0.6351352036252612,
          2.0202323143560563,
          -0.2763017552494075,
          1.3743321072795196,
          -1.0657353416762856,
          -0.13276837589906598,
          -1.209268721026627,
          -0.2763017552494075,
          -1.3528021003769686,
          0.9437319692284951,
          -0.2763017552494075,
          -0.2763017552494075,
          -0.9939686520011148,
          0.5131318311774707,
          -0.5633685139500905,
          1.0872653485788366,
          -0.706901893300432,
          0.44136514150229994,
          -0.2763017552494075,
          0.08253169312644625,
          -1.1375020313514563,
          1.517865486629861,
          -1.2810354107017978,
          1.0154986589036659,
          -1.49633547972731,
          0.728431900202983,
          -1.2810354107017978,
          0.22606507247678773,
          -0.6351352036252612,
          -0.20453506557423673,
          -1.3528021003769686,
          1.8766989350057148,
          -1.0657353416762856,
          0.6566652105278122,
          -0.5633685139500905,
          0.728431900202983,
          -1.0657353416762856,
          0.8001985898781537,
          -0.8504352726507735,
          -0.706901893300432,
          -0.5633685139500905,
          0.728431900202983,
          -0.41983513459974897,
          -0.5633685139500905,
          1.4460987969546903,
          0.8001985898781537,
          0.5848985208526415,
          0.8719652795533244,
          2.163765693706398,
          -0.8504352726507735,
          1.0154986589036659,
          2.2355323833815683,
          -1.4245687900521393,
          2.0202323143560563,
          1.0872653485788366,
          1.7331655556553733,
          -1.49633547972731,
          0.2978317621519585,
          2.091999004031227,
          -1.4245687900521393,
          -0.49160182427491966,
          2.2355323833815683,
          0.5848985208526415,
          1.517865486629861,
          1.517865486629861,
          1.4460987969546903,
          -0.9222019623259441,
          0.44136514150229994,
          0.08253169312644625,
          -1.1375020313514563,
          0.728431900202983,
          1.3025654176043489,
          -0.061001686223895235,
          2.0202323143560563,
          0.5131318311774707,
          -1.2810354107017978,
          0.6566652105278122,
          1.1590320382540074,
          -1.209268721026627,
          -0.3480684449245782,
          0.8001985898781537,
          2.091999004031227,
          -1.49633547972731,
          0.6566652105278122,
          0.08253169312644625,
          -0.49160182427491966,
          -1.0657353416762856,
          0.5848985208526415,
          -0.8504352726507735,
          0.6566652105278122,
          -1.3528021003769686,
          -1.1375020313514563,
          0.728431900202983,
          2.0202323143560563,
          -0.9222019623259441,
          0.728431900202983,
          -1.2810354107017978,
          1.9484656246808856,
          1.0872653485788366,
          2.091999004031227,
          1.9484656246808856,
          1.8766989350057148,
          -1.4245687900521393,
          -0.061001686223895235,
          -1.4245687900521393,
          -1.49633547972731,
          -1.4245687900521393,
          1.7331655556553733,
          0.728431900202983,
          0.8719652795533244,
          0.8001985898781537,
          -0.8504352726507735,
          -0.061001686223895235,
          0.08253169312644625,
          0.010765003451275509,
          -1.1375020313514563,
          -0.5633685139500905,
          0.2978317621519585,
          0.08253169312644625,
          1.4460987969546903,
          -0.061001686223895235,
          0.5848985208526415,
          0.010765003451275509,
          -0.9939686520011148,
          -0.5633685139500905,
          -1.3528021003769686,
          -0.706901893300432,
          0.36959845182712925,
          -0.49160182427491966,
          -1.4245687900521393,
          -0.2763017552494075,
          1.3025654176043489,
          -0.49160182427491966,
          -0.7786685829756027,
          -0.49160182427491966,
          -0.9939686520011148,
          -0.7786685829756027,
          0.6566652105278122,
          -0.49160182427491966,
          -0.3480684449245782,
          -0.3480684449245782,
          0.2978317621519585,
          0.010765003451275509,
          0.36959845182712925,
          -0.061001686223895235,
          0.5848985208526415,
          -0.8504352726507735,
          -0.13276837589906598,
          -0.6351352036252612,
          -0.3480684449245782,
          -0.6351352036252612,
          1.230798727929178,
          -0.706901893300432,
          -1.4245687900521393,
          -0.5633685139500905,
          0.8001985898781537,
          -0.20453506557423673,
          0.22606507247678773,
          -0.41983513459974897,
          -0.20453506557423673,
          -0.49160182427491966,
          0.08253169312644625,
          -0.7786685829756027,
          -0.20453506557423673,
          -0.20453506557423673,
          0.9437319692284951,
          -0.6351352036252612,
          1.3743321072795196,
          -0.8504352726507735,
          1.4460987969546903,
          -0.2763017552494075,
          -0.13276837589906598,
          -0.49160182427491966,
          0.5131318311774707,
          -0.706901893300432,
          0.154298382801617,
          -0.6351352036252612,
          1.0872653485788366,
          -0.7786685829756027,
          0.154298382801617,
          -0.20453506557423673,
          -0.3480684449245782,
          -0.49160182427491966,
          -0.41983513459974897,
          -0.061001686223895235,
          0.5848985208526415,
          -0.2763017552494075,
          0.44136514150229994,
          -0.49160182427491966,
          -0.49160182427491966,
          -0.6351352036252612
         ],
         "y": [
          -0.43480147996914814,
          1.195704069915157,
          -1.7159129834496736,
          1.0404178270690327,
          -0.3959799192576171,
          1.0015962663575015,
          -1.7159129834496736,
          1.700384359165061,
          -1.832377665584267,
          0.8463100235113773,
          -1.405340497757425,
          1.8944921627227165,
          -1.3665189370458939,
          1.0404178270690327,
          -1.444162058468956,
          1.118060948492095,
          -0.5900877228152724,
          0.6133806592421909,
          -0.823017087084459,
          1.8556706020111853,
          -0.5900877228152724,
          0.8851315842229084,
          -1.7547345441612048,
          0.8851315842229084,
          -1.405340497757425,
          1.234525630626688,
          -0.7065524049498657,
          0.4192728556845355,
          -0.7453739656613968,
          1.4286334341843434,
          -1.7935561048727358,
          0.8851315842229084,
          -1.7935561048727358,
          1.622741237741999,
          -1.405340497757425,
          1.195704069915157,
          -1.288875815622832,
          0.8851315842229084,
          -0.9394817692190521,
          0.9627747056459706,
          -0.5900877228152724,
          1.622741237741999,
          -0.5512661621037414,
          0.4192728556845355,
          -0.86183864779599,
          0.5745590985306598,
          0.18634349141534906,
          -0.12422899427689955,
          -0.31833679783455493,
          -0.31833679783455493,
          0.06987880928075582,
          0.38045129497300445,
          0.14752193070381797,
          0.38045129497300445,
          -0.20187211569996172,
          -0.357158358546086,
          -0.007764312142306325,
          -0.16305055498843063,
          0.03105724856922475,
          -0.16305055498843063,
          0.22516505212688012,
          0.18634349141534906,
          0.06987880928075582,
          0.34162973426147336,
          0.03105724856922475,
          0.34162973426147336,
          -0.007764312142306325,
          -0.08540743356536848,
          0.34162973426147336,
          -0.12422899427689955,
          0.18634349141534906,
          -0.31833679783455493,
          -0.046585872853837404,
          0.22516505212688012,
          -0.12422899427689955,
          0.14752193070381797,
          0.1087003699922869,
          -0.08540743356536848,
          0.06987880928075582,
          -0.31833679783455493,
          0.03105724856922475,
          0.18634349141534906,
          -0.357158358546086,
          -0.24069367641149278,
          0.2639866128384112,
          -0.16305055498843063,
          0.30280817354994227,
          0.18634349141534906,
          0.38045129497300445,
          -0.16305055498843063,
          0.18634349141534906,
          -0.357158358546086,
          -0.046585872853837404,
          -0.3959799192576171,
          -0.31833679783455493,
          0.06987880928075582,
          -0.12422899427689955,
          -0.007764312142306325,
          -0.31833679783455493,
          -0.046585872853837404,
          -0.357158358546086,
          -0.08540743356536848,
          0.34162973426147336,
          0.18634349141534906,
          0.22516505212688012,
          -0.31833679783455493,
          -0.007764312142306325,
          -0.16305055498843063,
          -0.27951523712302384,
          -0.08540743356536848,
          0.06987880928075582,
          0.14752193070381797,
          -0.31833679783455493,
          -0.16305055498843063,
          -0.08540743356536848,
          -0.007764312142306325,
          -0.27951523712302384,
          0.34162973426147336,
          -0.27951523712302384,
          0.2639866128384112,
          0.22516505212688012,
          -0.3959799192576171,
          0.30280817354994227,
          1.5839196770304678,
          -0.823017087084459,
          1.0404178270690327,
          -0.5900877228152724,
          1.7392059198765921,
          -1.5218051798920182,
          0.9627747056459706,
          -1.5994483013150804,
          0.9627747056459706,
          -0.6289092835268035,
          0.8074884627998463,
          -1.7547345441612048,
          1.4674549948958746,
          -1.6770914227381426,
          0.8851315842229084,
          -1.5606267406035494,
          0.8463100235113773,
          -1.7547345441612048,
          1.66156279845353,
          -0.3959799192576171,
          1.4286334341843434,
          -1.4829836191804873,
          1.8168490412996543,
          -0.5512661621037414,
          0.9239531449344395,
          -1.0947680120651764,
          1.5450981163189368,
          -1.288875815622832,
          1.4674549948958746,
          -1.1724111334882386,
          1.0015962663575015,
          -1.327697376334363,
          1.5062765556074056,
          -1.9100207870073291,
          1.0792393877805637,
          -1.9100207870073291,
          0.8851315842229084,
          -0.5900877228152724,
          1.2733471913382193,
          -1.7547345441612048,
          1.66156279845353,
          -0.9394817692190521,
          0.9627747056459706,
          -1.1724111334882386,
          1.7392059198765921,
          -0.900660208507521,
          0.49691597710759766,
          -1.444162058468956,
          0.9627747056459706,
          -1.5606267406035494,
          1.622741237741999,
          -1.444162058468956,
          1.3898118734728124,
          -1.3665189370458939,
          0.7298453413767841,
          -1.405340497757425,
          1.5450981163189368,
          -0.7065524049498657,
          1.3898118734728124,
          -1.3665189370458939,
          1.4674549948958746,
          -0.43480147996914814,
          1.8168490412996543,
          -1.0171248906421142,
          0.691023780665253,
          -1.288875815622832,
          1.3509903127612812,
          -1.0559464513536454,
          0.7298453413767841,
          -1.6382698620266116,
          1.5839196770304678,
          -1.327697376334363,
          1.118060948492095,
          -0.86183864779599,
          0.9239531449344395,
          -1.2500542549113007,
          1.2733471913382193
         ],
         "z": [
          -1.7389991930659485,
          -1.7389991930659485,
          -1.7008297638941763,
          -1.7008297638941763,
          -1.6626603347224038,
          -1.6626603347224038,
          -1.6244909055506316,
          -1.6244909055506316,
          -1.5863214763788591,
          -1.5863214763788591,
          -1.5863214763788591,
          -1.5863214763788591,
          -1.5481520472070869,
          -1.5481520472070869,
          -1.5481520472070869,
          -1.5481520472070869,
          -1.5099826180353144,
          -1.5099826180353144,
          -1.4336437596917697,
          -1.4336437596917697,
          -1.3954743305199975,
          -1.3954743305199975,
          -1.357304901348225,
          -1.357304901348225,
          -1.2427966138329078,
          -1.2427966138329078,
          -1.2427966138329078,
          -1.2427966138329078,
          -1.2046271846611356,
          -1.2046271846611356,
          -1.1664577554893631,
          -1.1664577554893631,
          -1.0519494679740462,
          -1.0519494679740462,
          -1.0519494679740462,
          -1.0519494679740462,
          -1.0137800388022737,
          -1.0137800388022737,
          -0.8992717512869568,
          -0.8992717512869568,
          -0.8611023221151844,
          -0.8611023221151844,
          -0.8229328929434121,
          -0.8229328929434121,
          -0.8229328929434121,
          -0.8229328929434121,
          -0.7847634637716397,
          -0.7847634637716397,
          -0.7847634637716397,
          -0.7847634637716397,
          -0.7084246054280949,
          -0.7084246054280949,
          -0.6702551762563226,
          -0.6702551762563226,
          -0.6702551762563226,
          -0.6702551762563226,
          -0.6320857470845502,
          -0.6320857470845502,
          -0.5557468887410055,
          -0.5557468887410055,
          -0.5557468887410055,
          -0.5557468887410055,
          -0.5175774595692332,
          -0.5175774595692332,
          -0.4794080303974609,
          -0.4794080303974609,
          -0.4794080303974609,
          -0.4794080303974609,
          -0.4794080303974609,
          -0.4794080303974609,
          -0.44123860122568853,
          -0.44123860122568853,
          -0.4030691720539161,
          -0.4030691720539161,
          -0.2503914553668267,
          -0.2503914553668267,
          -0.2503914553668267,
          -0.2503914553668267,
          -0.2503914553668267,
          -0.2503914553668267,
          -0.2503914553668267,
          -0.2503914553668267,
          -0.2503914553668267,
          -0.2503914553668267,
          -0.2503914553668267,
          -0.2503914553668267,
          -0.13588316785150967,
          -0.13588316785150967,
          -0.09771373867973732,
          -0.09771373867973732,
          -0.05954430950796496,
          -0.05954430950796496,
          -0.021374880336192604,
          -0.021374880336192604,
          -0.021374880336192604,
          -0.021374880336192604,
          -0.021374880336192604,
          -0.021374880336192604,
          0.01679454883557975,
          0.01679454883557975,
          0.0549639780073521,
          0.0549639780073521,
          0.0549639780073521,
          0.0549639780073521,
          0.0549639780073521,
          0.0549639780073521,
          0.09313340717912445,
          0.09313340717912445,
          0.09313340717912445,
          0.09313340717912445,
          0.09313340717912445,
          0.09313340717912445,
          0.13130283635089682,
          0.13130283635089682,
          0.16947226552266917,
          0.16947226552266917,
          0.16947226552266917,
          0.16947226552266917,
          0.24581112386621387,
          0.24581112386621387,
          0.24581112386621387,
          0.24581112386621387,
          0.3221499822097586,
          0.3221499822097586,
          0.36031941138153095,
          0.36031941138153095,
          0.3984888405533033,
          0.3984888405533033,
          0.3984888405533033,
          0.3984888405533033,
          0.3984888405533033,
          0.3984888405533033,
          0.43665826972507565,
          0.43665826972507565,
          0.474827698896848,
          0.474827698896848,
          0.474827698896848,
          0.474827698896848,
          0.5129971280686204,
          0.5129971280686204,
          0.5511665572403928,
          0.5511665572403928,
          0.5893359864121651,
          0.5893359864121651,
          0.6275054155839375,
          0.6275054155839375,
          0.6275054155839375,
          0.6275054155839375,
          0.6656748447557098,
          0.6656748447557098,
          0.6656748447557098,
          0.6656748447557098,
          0.6656748447557098,
          0.6656748447557098,
          0.6656748447557098,
          0.6656748447557098,
          0.6656748447557098,
          0.6656748447557098,
          0.6656748447557098,
          0.6656748447557098,
          0.7038442739274822,
          0.7038442739274822,
          0.7801831322710269,
          0.7801831322710269,
          0.9328608489581163,
          0.9328608489581163,
          0.9710302781298886,
          0.9710302781298886,
          1.009199707301661,
          1.009199707301661,
          1.009199707301661,
          1.009199707301661,
          1.009199707301661,
          1.009199707301661,
          1.0473691364734332,
          1.0473691364734332,
          1.0473691364734332,
          1.0473691364734332,
          1.238216282332295,
          1.238216282332295,
          1.3908939990193845,
          1.3908939990193845,
          1.429063428191157,
          1.429063428191157,
          1.4672328573629292,
          1.4672328573629292,
          1.543571715706474,
          1.543571715706474,
          1.6199105740500186,
          1.6199105740500186,
          1.6199105740500186,
          1.6199105740500186,
          2.0016048657677423,
          2.0016048657677423,
          2.2687908699701484,
          2.2687908699701484,
          2.4978074450007828,
          2.4978074450007828,
          2.9176711658902788,
          2.9176711658902788
         ]
        }
       ],
       "layout": {
        "scene": {
         "xaxis": {
          "title": {
           "text": "Age"
          }
         },
         "yaxis": {
          "title": {
           "text": "Spending Score"
          }
         },
         "zaxis": {
          "title": {
           "text": "Annual Income"
          }
         }
        },
        "template": {
         "data": {
          "bar": [
           {
            "error_x": {
             "color": "#2a3f5f"
            },
            "error_y": {
             "color": "#2a3f5f"
            },
            "marker": {
             "line": {
              "color": "#E5ECF6",
              "width": 0.5
             }
            },
            "type": "bar"
           }
          ],
          "barpolar": [
           {
            "marker": {
             "line": {
              "color": "#E5ECF6",
              "width": 0.5
             }
            },
            "type": "barpolar"
           }
          ],
          "carpet": [
           {
            "aaxis": {
             "endlinecolor": "#2a3f5f",
             "gridcolor": "white",
             "linecolor": "white",
             "minorgridcolor": "white",
             "startlinecolor": "#2a3f5f"
            },
            "baxis": {
             "endlinecolor": "#2a3f5f",
             "gridcolor": "white",
             "linecolor": "white",
             "minorgridcolor": "white",
             "startlinecolor": "#2a3f5f"
            },
            "type": "carpet"
           }
          ],
          "choropleth": [
           {
            "colorbar": {
             "outlinewidth": 0,
             "ticks": ""
            },
            "type": "choropleth"
           }
          ],
          "contour": [
           {
            "colorbar": {
             "outlinewidth": 0,
             "ticks": ""
            },
            "colorscale": [
             [
              0,
              "#0d0887"
             ],
             [
              0.1111111111111111,
              "#46039f"
             ],
             [
              0.2222222222222222,
              "#7201a8"
             ],
             [
              0.3333333333333333,
              "#9c179e"
             ],
             [
              0.4444444444444444,
              "#bd3786"
             ],
             [
              0.5555555555555556,
              "#d8576b"
             ],
             [
              0.6666666666666666,
              "#ed7953"
             ],
             [
              0.7777777777777778,
              "#fb9f3a"
             ],
             [
              0.8888888888888888,
              "#fdca26"
             ],
             [
              1,
              "#f0f921"
             ]
            ],
            "type": "contour"
           }
          ],
          "contourcarpet": [
           {
            "colorbar": {
             "outlinewidth": 0,
             "ticks": ""
            },
            "type": "contourcarpet"
           }
          ],
          "heatmap": [
           {
            "colorbar": {
             "outlinewidth": 0,
             "ticks": ""
            },
            "colorscale": [
             [
              0,
              "#0d0887"
             ],
             [
              0.1111111111111111,
              "#46039f"
             ],
             [
              0.2222222222222222,
              "#7201a8"
             ],
             [
              0.3333333333333333,
              "#9c179e"
             ],
             [
              0.4444444444444444,
              "#bd3786"
             ],
             [
              0.5555555555555556,
              "#d8576b"
             ],
             [
              0.6666666666666666,
              "#ed7953"
             ],
             [
              0.7777777777777778,
              "#fb9f3a"
             ],
             [
              0.8888888888888888,
              "#fdca26"
             ],
             [
              1,
              "#f0f921"
             ]
            ],
            "type": "heatmap"
           }
          ],
          "heatmapgl": [
           {
            "colorbar": {
             "outlinewidth": 0,
             "ticks": ""
            },
            "colorscale": [
             [
              0,
              "#0d0887"
             ],
             [
              0.1111111111111111,
              "#46039f"
             ],
             [
              0.2222222222222222,
              "#7201a8"
             ],
             [
              0.3333333333333333,
              "#9c179e"
             ],
             [
              0.4444444444444444,
              "#bd3786"
             ],
             [
              0.5555555555555556,
              "#d8576b"
             ],
             [
              0.6666666666666666,
              "#ed7953"
             ],
             [
              0.7777777777777778,
              "#fb9f3a"
             ],
             [
              0.8888888888888888,
              "#fdca26"
             ],
             [
              1,
              "#f0f921"
             ]
            ],
            "type": "heatmapgl"
           }
          ],
          "histogram": [
           {
            "marker": {
             "colorbar": {
              "outlinewidth": 0,
              "ticks": ""
             }
            },
            "type": "histogram"
           }
          ],
          "histogram2d": [
           {
            "colorbar": {
             "outlinewidth": 0,
             "ticks": ""
            },
            "colorscale": [
             [
              0,
              "#0d0887"
             ],
             [
              0.1111111111111111,
              "#46039f"
             ],
             [
              0.2222222222222222,
              "#7201a8"
             ],
             [
              0.3333333333333333,
              "#9c179e"
             ],
             [
              0.4444444444444444,
              "#bd3786"
             ],
             [
              0.5555555555555556,
              "#d8576b"
             ],
             [
              0.6666666666666666,
              "#ed7953"
             ],
             [
              0.7777777777777778,
              "#fb9f3a"
             ],
             [
              0.8888888888888888,
              "#fdca26"
             ],
             [
              1,
              "#f0f921"
             ]
            ],
            "type": "histogram2d"
           }
          ],
          "histogram2dcontour": [
           {
            "colorbar": {
             "outlinewidth": 0,
             "ticks": ""
            },
            "colorscale": [
             [
              0,
              "#0d0887"
             ],
             [
              0.1111111111111111,
              "#46039f"
             ],
             [
              0.2222222222222222,
              "#7201a8"
             ],
             [
              0.3333333333333333,
              "#9c179e"
             ],
             [
              0.4444444444444444,
              "#bd3786"
             ],
             [
              0.5555555555555556,
              "#d8576b"
             ],
             [
              0.6666666666666666,
              "#ed7953"
             ],
             [
              0.7777777777777778,
              "#fb9f3a"
             ],
             [
              0.8888888888888888,
              "#fdca26"
             ],
             [
              1,
              "#f0f921"
             ]
            ],
            "type": "histogram2dcontour"
           }
          ],
          "mesh3d": [
           {
            "colorbar": {
             "outlinewidth": 0,
             "ticks": ""
            },
            "type": "mesh3d"
           }
          ],
          "parcoords": [
           {
            "line": {
             "colorbar": {
              "outlinewidth": 0,
              "ticks": ""
             }
            },
            "type": "parcoords"
           }
          ],
          "scatter": [
           {
            "marker": {
             "colorbar": {
              "outlinewidth": 0,
              "ticks": ""
             }
            },
            "type": "scatter"
           }
          ],
          "scatter3d": [
           {
            "line": {
             "colorbar": {
              "outlinewidth": 0,
              "ticks": ""
             }
            },
            "marker": {
             "colorbar": {
              "outlinewidth": 0,
              "ticks": ""
             }
            },
            "type": "scatter3d"
           }
          ],
          "scattercarpet": [
           {
            "marker": {
             "colorbar": {
              "outlinewidth": 0,
              "ticks": ""
             }
            },
            "type": "scattercarpet"
           }
          ],
          "scattergeo": [
           {
            "marker": {
             "colorbar": {
              "outlinewidth": 0,
              "ticks": ""
             }
            },
            "type": "scattergeo"
           }
          ],
          "scattergl": [
           {
            "marker": {
             "colorbar": {
              "outlinewidth": 0,
              "ticks": ""
             }
            },
            "type": "scattergl"
           }
          ],
          "scattermapbox": [
           {
            "marker": {
             "colorbar": {
              "outlinewidth": 0,
              "ticks": ""
             }
            },
            "type": "scattermapbox"
           }
          ],
          "scatterpolar": [
           {
            "marker": {
             "colorbar": {
              "outlinewidth": 0,
              "ticks": ""
             }
            },
            "type": "scatterpolar"
           }
          ],
          "scatterpolargl": [
           {
            "marker": {
             "colorbar": {
              "outlinewidth": 0,
              "ticks": ""
             }
            },
            "type": "scatterpolargl"
           }
          ],
          "scatterternary": [
           {
            "marker": {
             "colorbar": {
              "outlinewidth": 0,
              "ticks": ""
             }
            },
            "type": "scatterternary"
           }
          ],
          "surface": [
           {
            "colorbar": {
             "outlinewidth": 0,
             "ticks": ""
            },
            "colorscale": [
             [
              0,
              "#0d0887"
             ],
             [
              0.1111111111111111,
              "#46039f"
             ],
             [
              0.2222222222222222,
              "#7201a8"
             ],
             [
              0.3333333333333333,
              "#9c179e"
             ],
             [
              0.4444444444444444,
              "#bd3786"
             ],
             [
              0.5555555555555556,
              "#d8576b"
             ],
             [
              0.6666666666666666,
              "#ed7953"
             ],
             [
              0.7777777777777778,
              "#fb9f3a"
             ],
             [
              0.8888888888888888,
              "#fdca26"
             ],
             [
              1,
              "#f0f921"
             ]
            ],
            "type": "surface"
           }
          ],
          "table": [
           {
            "cells": {
             "fill": {
              "color": "#EBF0F8"
             },
             "line": {
              "color": "white"
             }
            },
            "header": {
             "fill": {
              "color": "#C8D4E3"
             },
             "line": {
              "color": "white"
             }
            },
            "type": "table"
           }
          ]
         },
         "layout": {
          "annotationdefaults": {
           "arrowcolor": "#2a3f5f",
           "arrowhead": 0,
           "arrowwidth": 1
          },
          "colorscale": {
           "diverging": [
            [
             0,
             "#8e0152"
            ],
            [
             0.1,
             "#c51b7d"
            ],
            [
             0.2,
             "#de77ae"
            ],
            [
             0.3,
             "#f1b6da"
            ],
            [
             0.4,
             "#fde0ef"
            ],
            [
             0.5,
             "#f7f7f7"
            ],
            [
             0.6,
             "#e6f5d0"
            ],
            [
             0.7,
             "#b8e186"
            ],
            [
             0.8,
             "#7fbc41"
            ],
            [
             0.9,
             "#4d9221"
            ],
            [
             1,
             "#276419"
            ]
           ],
           "sequential": [
            [
             0,
             "#0d0887"
            ],
            [
             0.1111111111111111,
             "#46039f"
            ],
            [
             0.2222222222222222,
             "#7201a8"
            ],
            [
             0.3333333333333333,
             "#9c179e"
            ],
            [
             0.4444444444444444,
             "#bd3786"
            ],
            [
             0.5555555555555556,
             "#d8576b"
            ],
            [
             0.6666666666666666,
             "#ed7953"
            ],
            [
             0.7777777777777778,
             "#fb9f3a"
            ],
            [
             0.8888888888888888,
             "#fdca26"
            ],
            [
             1,
             "#f0f921"
            ]
           ],
           "sequentialminus": [
            [
             0,
             "#0d0887"
            ],
            [
             0.1111111111111111,
             "#46039f"
            ],
            [
             0.2222222222222222,
             "#7201a8"
            ],
            [
             0.3333333333333333,
             "#9c179e"
            ],
            [
             0.4444444444444444,
             "#bd3786"
            ],
            [
             0.5555555555555556,
             "#d8576b"
            ],
            [
             0.6666666666666666,
             "#ed7953"
            ],
            [
             0.7777777777777778,
             "#fb9f3a"
            ],
            [
             0.8888888888888888,
             "#fdca26"
            ],
            [
             1,
             "#f0f921"
            ]
           ]
          },
          "colorway": [
           "#636efa",
           "#EF553B",
           "#00cc96",
           "#ab63fa",
           "#FFA15A",
           "#19d3f3",
           "#FF6692",
           "#B6E880",
           "#FF97FF",
           "#FECB52"
          ],
          "font": {
           "color": "#2a3f5f"
          },
          "geo": {
           "bgcolor": "white",
           "lakecolor": "white",
           "landcolor": "#E5ECF6",
           "showlakes": true,
           "showland": true,
           "subunitcolor": "white"
          },
          "hoverlabel": {
           "align": "left"
          },
          "hovermode": "closest",
          "mapbox": {
           "style": "light"
          },
          "paper_bgcolor": "white",
          "plot_bgcolor": "#E5ECF6",
          "polar": {
           "angularaxis": {
            "gridcolor": "white",
            "linecolor": "white",
            "ticks": ""
           },
           "bgcolor": "#E5ECF6",
           "radialaxis": {
            "gridcolor": "white",
            "linecolor": "white",
            "ticks": ""
           }
          },
          "scene": {
           "xaxis": {
            "backgroundcolor": "#E5ECF6",
            "gridcolor": "white",
            "gridwidth": 2,
            "linecolor": "white",
            "showbackground": true,
            "ticks": "",
            "zerolinecolor": "white"
           },
           "yaxis": {
            "backgroundcolor": "#E5ECF6",
            "gridcolor": "white",
            "gridwidth": 2,
            "linecolor": "white",
            "showbackground": true,
            "ticks": "",
            "zerolinecolor": "white"
           },
           "zaxis": {
            "backgroundcolor": "#E5ECF6",
            "gridcolor": "white",
            "gridwidth": 2,
            "linecolor": "white",
            "showbackground": true,
            "ticks": "",
            "zerolinecolor": "white"
           }
          },
          "shapedefaults": {
           "line": {
            "color": "#2a3f5f"
           }
          },
          "ternary": {
           "aaxis": {
            "gridcolor": "white",
            "linecolor": "white",
            "ticks": ""
           },
           "baxis": {
            "gridcolor": "white",
            "linecolor": "white",
            "ticks": ""
           },
           "bgcolor": "#E5ECF6",
           "caxis": {
            "gridcolor": "white",
            "linecolor": "white",
            "ticks": ""
           }
          },
          "title": {
           "x": 0.05
          },
          "xaxis": {
           "automargin": true,
           "gridcolor": "white",
           "linecolor": "white",
           "ticks": "",
           "zerolinecolor": "white",
           "zerolinewidth": 2
          },
          "yaxis": {
           "automargin": true,
           "gridcolor": "white",
           "linecolor": "white",
           "ticks": "",
           "zerolinecolor": "white",
           "zerolinewidth": 2
          }
         }
        },
        "title": {
         "text": "Cluster"
        }
       }
      },
      "text/html": [
       "<div>\n",
       "        \n",
       "        \n",
       "            <div id=\"5f96e1c2-808b-46fd-9f15-ce77e3c114f7\" class=\"plotly-graph-div\" style=\"height:525px; width:100%;\"></div>\n",
       "            <script type=\"text/javascript\">\n",
       "                require([\"plotly\"], function(Plotly) {\n",
       "                    window.PLOTLYENV=window.PLOTLYENV || {};\n",
       "                    \n",
       "                if (document.getElementById(\"5f96e1c2-808b-46fd-9f15-ce77e3c114f7\")) {\n",
       "                    Plotly.newPlot(\n",
       "                        '5f96e1c2-808b-46fd-9f15-ce77e3c114f7',\n",
       "                        [{\"marker\": {\"color\": [0, 0, 3, 0, 0, 0, 3, 0, 3, 0, 3, 0, 3, 0, 3, 0, 3, 0, 3, 0, 3, 0, 3, 0, 3, 0, 3, 0, 3, 0, 3, 0, 3, 0, 3, 0, 3, 0, 3, 0, 1, 0, 3, 0, 3, 0, 1, 0, 0, 0, 1, 0, 0, 1, 1, 1, 1, 1, 0, 1, 1, 0, 1, 1, 1, 0, 1, 1, 0, 0, 1, 1, 1, 1, 1, 0, 1, 1, 0, 1, 1, 0, 1, 1, 0, 1, 1, 0, 0, 1, 1, 0, 1, 1, 0, 0, 1, 0, 1, 0, 0, 1, 1, 0, 1, 0, 1, 1, 1, 1, 1, 0, 2, 0, 0, 0, 1, 1, 1, 1, 0, 2, 4, 4, 2, 4, 2, 4, 2, 4, 2, 4, 2, 4, 2, 4, 2, 4, 2, 4, 2, 4, 2, 4, 2, 4, 2, 4, 2, 4, 2, 4, 2, 4, 2, 4, 2, 4, 2, 4, 1, 4, 2, 4, 2, 4, 2, 4, 2, 4, 2, 4, 2, 4, 2, 4, 2, 4, 2, 4, 2, 4, 2, 4, 2, 4, 2, 4, 2, 4, 2, 4, 2, 4, 2, 4, 2, 4, 2, 4], \"line\": {\"color\": [0, 0, 3, 0, 0, 0, 3, 0, 3, 0, 3, 0, 3, 0, 3, 0, 3, 0, 3, 0, 3, 0, 3, 0, 3, 0, 3, 0, 3, 0, 3, 0, 3, 0, 3, 0, 3, 0, 3, 0, 1, 0, 3, 0, 3, 0, 1, 0, 0, 0, 1, 0, 0, 1, 1, 1, 1, 1, 0, 1, 1, 0, 1, 1, 1, 0, 1, 1, 0, 0, 1, 1, 1, 1, 1, 0, 1, 1, 0, 1, 1, 0, 1, 1, 0, 1, 1, 0, 0, 1, 1, 0, 1, 1, 0, 0, 1, 0, 1, 0, 0, 1, 1, 0, 1, 0, 1, 1, 1, 1, 1, 0, 2, 0, 0, 0, 1, 1, 1, 1, 0, 2, 4, 4, 2, 4, 2, 4, 2, 4, 2, 4, 2, 4, 2, 4, 2, 4, 2, 4, 2, 4, 2, 4, 2, 4, 2, 4, 2, 4, 2, 4, 2, 4, 2, 4, 2, 4, 2, 4, 1, 4, 2, 4, 2, 4, 2, 4, 2, 4, 2, 4, 2, 4, 2, 4, 2, 4, 2, 4, 2, 4, 2, 4, 2, 4, 2, 4, 2, 4, 2, 4, 2, 4, 2, 4, 2, 4, 2, 4]}, \"size\": 20}, \"mode\": \"markers\", \"opacity\": 0.8, \"type\": \"scatter3d\", \"x\": [-1.4245687900521393, -1.2810354107017978, -1.3528021003769686, -1.1375020313514563, -0.5633685139500905, -1.209268721026627, -0.2763017552494075, -1.1375020313514563, 1.804932245330544, -0.6351352036252612, 2.0202323143560563, -0.2763017552494075, 1.3743321072795196, -1.0657353416762856, -0.13276837589906598, -1.209268721026627, -0.2763017552494075, -1.3528021003769686, 0.9437319692284951, -0.2763017552494075, -0.2763017552494075, -0.9939686520011148, 0.5131318311774707, -0.5633685139500905, 1.0872653485788366, -0.706901893300432, 0.44136514150229994, -0.2763017552494075, 0.08253169312644625, -1.1375020313514563, 1.517865486629861, -1.2810354107017978, 1.0154986589036659, -1.49633547972731, 0.728431900202983, -1.2810354107017978, 0.22606507247678773, -0.6351352036252612, -0.20453506557423673, -1.3528021003769686, 1.8766989350057148, -1.0657353416762856, 0.6566652105278122, -0.5633685139500905, 0.728431900202983, -1.0657353416762856, 0.8001985898781537, -0.8504352726507735, -0.706901893300432, -0.5633685139500905, 0.728431900202983, -0.41983513459974897, -0.5633685139500905, 1.4460987969546903, 0.8001985898781537, 0.5848985208526415, 0.8719652795533244, 2.163765693706398, -0.8504352726507735, 1.0154986589036659, 2.2355323833815683, -1.4245687900521393, 2.0202323143560563, 1.0872653485788366, 1.7331655556553733, -1.49633547972731, 0.2978317621519585, 2.091999004031227, -1.4245687900521393, -0.49160182427491966, 2.2355323833815683, 0.5848985208526415, 1.517865486629861, 1.517865486629861, 1.4460987969546903, -0.9222019623259441, 0.44136514150229994, 0.08253169312644625, -1.1375020313514563, 0.728431900202983, 1.3025654176043489, -0.061001686223895235, 2.0202323143560563, 0.5131318311774707, -1.2810354107017978, 0.6566652105278122, 1.1590320382540074, -1.209268721026627, -0.3480684449245782, 0.8001985898781537, 2.091999004031227, -1.49633547972731, 0.6566652105278122, 0.08253169312644625, -0.49160182427491966, -1.0657353416762856, 0.5848985208526415, -0.8504352726507735, 0.6566652105278122, -1.3528021003769686, -1.1375020313514563, 0.728431900202983, 2.0202323143560563, -0.9222019623259441, 0.728431900202983, -1.2810354107017978, 1.9484656246808856, 1.0872653485788366, 2.091999004031227, 1.9484656246808856, 1.8766989350057148, -1.4245687900521393, -0.061001686223895235, -1.4245687900521393, -1.49633547972731, -1.4245687900521393, 1.7331655556553733, 0.728431900202983, 0.8719652795533244, 0.8001985898781537, -0.8504352726507735, -0.061001686223895235, 0.08253169312644625, 0.010765003451275509, -1.1375020313514563, -0.5633685139500905, 0.2978317621519585, 0.08253169312644625, 1.4460987969546903, -0.061001686223895235, 0.5848985208526415, 0.010765003451275509, -0.9939686520011148, -0.5633685139500905, -1.3528021003769686, -0.706901893300432, 0.36959845182712925, -0.49160182427491966, -1.4245687900521393, -0.2763017552494075, 1.3025654176043489, -0.49160182427491966, -0.7786685829756027, -0.49160182427491966, -0.9939686520011148, -0.7786685829756027, 0.6566652105278122, -0.49160182427491966, -0.3480684449245782, -0.3480684449245782, 0.2978317621519585, 0.010765003451275509, 0.36959845182712925, -0.061001686223895235, 0.5848985208526415, -0.8504352726507735, -0.13276837589906598, -0.6351352036252612, -0.3480684449245782, -0.6351352036252612, 1.230798727929178, -0.706901893300432, -1.4245687900521393, -0.5633685139500905, 0.8001985898781537, -0.20453506557423673, 0.22606507247678773, -0.41983513459974897, -0.20453506557423673, -0.49160182427491966, 0.08253169312644625, -0.7786685829756027, -0.20453506557423673, -0.20453506557423673, 0.9437319692284951, -0.6351352036252612, 1.3743321072795196, -0.8504352726507735, 1.4460987969546903, -0.2763017552494075, -0.13276837589906598, -0.49160182427491966, 0.5131318311774707, -0.706901893300432, 0.154298382801617, -0.6351352036252612, 1.0872653485788366, -0.7786685829756027, 0.154298382801617, -0.20453506557423673, -0.3480684449245782, -0.49160182427491966, -0.41983513459974897, -0.061001686223895235, 0.5848985208526415, -0.2763017552494075, 0.44136514150229994, -0.49160182427491966, -0.49160182427491966, -0.6351352036252612], \"y\": [-0.43480147996914814, 1.195704069915157, -1.7159129834496736, 1.0404178270690327, -0.3959799192576171, 1.0015962663575015, -1.7159129834496736, 1.700384359165061, -1.832377665584267, 0.8463100235113773, -1.405340497757425, 1.8944921627227165, -1.3665189370458939, 1.0404178270690327, -1.444162058468956, 1.118060948492095, -0.5900877228152724, 0.6133806592421909, -0.823017087084459, 1.8556706020111853, -0.5900877228152724, 0.8851315842229084, -1.7547345441612048, 0.8851315842229084, -1.405340497757425, 1.234525630626688, -0.7065524049498657, 0.4192728556845355, -0.7453739656613968, 1.4286334341843434, -1.7935561048727358, 0.8851315842229084, -1.7935561048727358, 1.622741237741999, -1.405340497757425, 1.195704069915157, -1.288875815622832, 0.8851315842229084, -0.9394817692190521, 0.9627747056459706, -0.5900877228152724, 1.622741237741999, -0.5512661621037414, 0.4192728556845355, -0.86183864779599, 0.5745590985306598, 0.18634349141534906, -0.12422899427689955, -0.31833679783455493, -0.31833679783455493, 0.06987880928075582, 0.38045129497300445, 0.14752193070381797, 0.38045129497300445, -0.20187211569996172, -0.357158358546086, -0.007764312142306325, -0.16305055498843063, 0.03105724856922475, -0.16305055498843063, 0.22516505212688012, 0.18634349141534906, 0.06987880928075582, 0.34162973426147336, 0.03105724856922475, 0.34162973426147336, -0.007764312142306325, -0.08540743356536848, 0.34162973426147336, -0.12422899427689955, 0.18634349141534906, -0.31833679783455493, -0.046585872853837404, 0.22516505212688012, -0.12422899427689955, 0.14752193070381797, 0.1087003699922869, -0.08540743356536848, 0.06987880928075582, -0.31833679783455493, 0.03105724856922475, 0.18634349141534906, -0.357158358546086, -0.24069367641149278, 0.2639866128384112, -0.16305055498843063, 0.30280817354994227, 0.18634349141534906, 0.38045129497300445, -0.16305055498843063, 0.18634349141534906, -0.357158358546086, -0.046585872853837404, -0.3959799192576171, -0.31833679783455493, 0.06987880928075582, -0.12422899427689955, -0.007764312142306325, -0.31833679783455493, -0.046585872853837404, -0.357158358546086, -0.08540743356536848, 0.34162973426147336, 0.18634349141534906, 0.22516505212688012, -0.31833679783455493, -0.007764312142306325, -0.16305055498843063, -0.27951523712302384, -0.08540743356536848, 0.06987880928075582, 0.14752193070381797, -0.31833679783455493, -0.16305055498843063, -0.08540743356536848, -0.007764312142306325, -0.27951523712302384, 0.34162973426147336, -0.27951523712302384, 0.2639866128384112, 0.22516505212688012, -0.3959799192576171, 0.30280817354994227, 1.5839196770304678, -0.823017087084459, 1.0404178270690327, -0.5900877228152724, 1.7392059198765921, -1.5218051798920182, 0.9627747056459706, -1.5994483013150804, 0.9627747056459706, -0.6289092835268035, 0.8074884627998463, -1.7547345441612048, 1.4674549948958746, -1.6770914227381426, 0.8851315842229084, -1.5606267406035494, 0.8463100235113773, -1.7547345441612048, 1.66156279845353, -0.3959799192576171, 1.4286334341843434, -1.4829836191804873, 1.8168490412996543, -0.5512661621037414, 0.9239531449344395, -1.0947680120651764, 1.5450981163189368, -1.288875815622832, 1.4674549948958746, -1.1724111334882386, 1.0015962663575015, -1.327697376334363, 1.5062765556074056, -1.9100207870073291, 1.0792393877805637, -1.9100207870073291, 0.8851315842229084, -0.5900877228152724, 1.2733471913382193, -1.7547345441612048, 1.66156279845353, -0.9394817692190521, 0.9627747056459706, -1.1724111334882386, 1.7392059198765921, -0.900660208507521, 0.49691597710759766, -1.444162058468956, 0.9627747056459706, -1.5606267406035494, 1.622741237741999, -1.444162058468956, 1.3898118734728124, -1.3665189370458939, 0.7298453413767841, -1.405340497757425, 1.5450981163189368, -0.7065524049498657, 1.3898118734728124, -1.3665189370458939, 1.4674549948958746, -0.43480147996914814, 1.8168490412996543, -1.0171248906421142, 0.691023780665253, -1.288875815622832, 1.3509903127612812, -1.0559464513536454, 0.7298453413767841, -1.6382698620266116, 1.5839196770304678, -1.327697376334363, 1.118060948492095, -0.86183864779599, 0.9239531449344395, -1.2500542549113007, 1.2733471913382193], \"z\": [-1.7389991930659485, -1.7389991930659485, -1.7008297638941763, -1.7008297638941763, -1.6626603347224038, -1.6626603347224038, -1.6244909055506316, -1.6244909055506316, -1.5863214763788591, -1.5863214763788591, -1.5863214763788591, -1.5863214763788591, -1.5481520472070869, -1.5481520472070869, -1.5481520472070869, -1.5481520472070869, -1.5099826180353144, -1.5099826180353144, -1.4336437596917697, -1.4336437596917697, -1.3954743305199975, -1.3954743305199975, -1.357304901348225, -1.357304901348225, -1.2427966138329078, -1.2427966138329078, -1.2427966138329078, -1.2427966138329078, -1.2046271846611356, -1.2046271846611356, -1.1664577554893631, -1.1664577554893631, -1.0519494679740462, -1.0519494679740462, -1.0519494679740462, -1.0519494679740462, -1.0137800388022737, -1.0137800388022737, -0.8992717512869568, -0.8992717512869568, -0.8611023221151844, -0.8611023221151844, -0.8229328929434121, -0.8229328929434121, -0.8229328929434121, -0.8229328929434121, -0.7847634637716397, -0.7847634637716397, -0.7847634637716397, -0.7847634637716397, -0.7084246054280949, -0.7084246054280949, -0.6702551762563226, -0.6702551762563226, -0.6702551762563226, -0.6702551762563226, -0.6320857470845502, -0.6320857470845502, -0.5557468887410055, -0.5557468887410055, -0.5557468887410055, -0.5557468887410055, -0.5175774595692332, -0.5175774595692332, -0.4794080303974609, -0.4794080303974609, -0.4794080303974609, -0.4794080303974609, -0.4794080303974609, -0.4794080303974609, -0.44123860122568853, -0.44123860122568853, -0.4030691720539161, -0.4030691720539161, -0.2503914553668267, -0.2503914553668267, -0.2503914553668267, -0.2503914553668267, -0.2503914553668267, -0.2503914553668267, -0.2503914553668267, -0.2503914553668267, -0.2503914553668267, -0.2503914553668267, -0.2503914553668267, -0.2503914553668267, -0.13588316785150967, -0.13588316785150967, -0.09771373867973732, -0.09771373867973732, -0.05954430950796496, -0.05954430950796496, -0.021374880336192604, -0.021374880336192604, -0.021374880336192604, -0.021374880336192604, -0.021374880336192604, -0.021374880336192604, 0.01679454883557975, 0.01679454883557975, 0.0549639780073521, 0.0549639780073521, 0.0549639780073521, 0.0549639780073521, 0.0549639780073521, 0.0549639780073521, 0.09313340717912445, 0.09313340717912445, 0.09313340717912445, 0.09313340717912445, 0.09313340717912445, 0.09313340717912445, 0.13130283635089682, 0.13130283635089682, 0.16947226552266917, 0.16947226552266917, 0.16947226552266917, 0.16947226552266917, 0.24581112386621387, 0.24581112386621387, 0.24581112386621387, 0.24581112386621387, 0.3221499822097586, 0.3221499822097586, 0.36031941138153095, 0.36031941138153095, 0.3984888405533033, 0.3984888405533033, 0.3984888405533033, 0.3984888405533033, 0.3984888405533033, 0.3984888405533033, 0.43665826972507565, 0.43665826972507565, 0.474827698896848, 0.474827698896848, 0.474827698896848, 0.474827698896848, 0.5129971280686204, 0.5129971280686204, 0.5511665572403928, 0.5511665572403928, 0.5893359864121651, 0.5893359864121651, 0.6275054155839375, 0.6275054155839375, 0.6275054155839375, 0.6275054155839375, 0.6656748447557098, 0.6656748447557098, 0.6656748447557098, 0.6656748447557098, 0.6656748447557098, 0.6656748447557098, 0.6656748447557098, 0.6656748447557098, 0.6656748447557098, 0.6656748447557098, 0.6656748447557098, 0.6656748447557098, 0.7038442739274822, 0.7038442739274822, 0.7801831322710269, 0.7801831322710269, 0.9328608489581163, 0.9328608489581163, 0.9710302781298886, 0.9710302781298886, 1.009199707301661, 1.009199707301661, 1.009199707301661, 1.009199707301661, 1.009199707301661, 1.009199707301661, 1.0473691364734332, 1.0473691364734332, 1.0473691364734332, 1.0473691364734332, 1.238216282332295, 1.238216282332295, 1.3908939990193845, 1.3908939990193845, 1.429063428191157, 1.429063428191157, 1.4672328573629292, 1.4672328573629292, 1.543571715706474, 1.543571715706474, 1.6199105740500186, 1.6199105740500186, 1.6199105740500186, 1.6199105740500186, 2.0016048657677423, 2.0016048657677423, 2.2687908699701484, 2.2687908699701484, 2.4978074450007828, 2.4978074450007828, 2.9176711658902788, 2.9176711658902788]}],\n",
       "                        {\"scene\": {\"xaxis\": {\"title\": {\"text\": \"Age\"}}, \"yaxis\": {\"title\": {\"text\": \"Spending Score\"}}, \"zaxis\": {\"title\": {\"text\": \"Annual Income\"}}}, \"template\": {\"data\": {\"bar\": [{\"error_x\": {\"color\": \"#2a3f5f\"}, \"error_y\": {\"color\": \"#2a3f5f\"}, \"marker\": {\"line\": {\"color\": \"#E5ECF6\", \"width\": 0.5}}, \"type\": \"bar\"}], \"barpolar\": [{\"marker\": {\"line\": {\"color\": \"#E5ECF6\", \"width\": 0.5}}, \"type\": \"barpolar\"}], \"carpet\": [{\"aaxis\": {\"endlinecolor\": \"#2a3f5f\", \"gridcolor\": \"white\", \"linecolor\": \"white\", \"minorgridcolor\": \"white\", \"startlinecolor\": \"#2a3f5f\"}, \"baxis\": {\"endlinecolor\": \"#2a3f5f\", \"gridcolor\": \"white\", \"linecolor\": \"white\", \"minorgridcolor\": \"white\", \"startlinecolor\": \"#2a3f5f\"}, \"type\": \"carpet\"}], \"choropleth\": [{\"colorbar\": {\"outlinewidth\": 0, \"ticks\": \"\"}, \"type\": \"choropleth\"}], \"contour\": [{\"colorbar\": {\"outlinewidth\": 0, \"ticks\": \"\"}, \"colorscale\": [[0.0, \"#0d0887\"], [0.1111111111111111, \"#46039f\"], [0.2222222222222222, \"#7201a8\"], [0.3333333333333333, \"#9c179e\"], [0.4444444444444444, \"#bd3786\"], [0.5555555555555556, \"#d8576b\"], [0.6666666666666666, \"#ed7953\"], [0.7777777777777778, \"#fb9f3a\"], [0.8888888888888888, \"#fdca26\"], [1.0, \"#f0f921\"]], \"type\": \"contour\"}], \"contourcarpet\": [{\"colorbar\": {\"outlinewidth\": 0, \"ticks\": \"\"}, \"type\": \"contourcarpet\"}], \"heatmap\": [{\"colorbar\": {\"outlinewidth\": 0, \"ticks\": \"\"}, \"colorscale\": [[0.0, \"#0d0887\"], [0.1111111111111111, \"#46039f\"], [0.2222222222222222, \"#7201a8\"], [0.3333333333333333, \"#9c179e\"], [0.4444444444444444, \"#bd3786\"], [0.5555555555555556, \"#d8576b\"], [0.6666666666666666, \"#ed7953\"], [0.7777777777777778, \"#fb9f3a\"], [0.8888888888888888, \"#fdca26\"], [1.0, \"#f0f921\"]], \"type\": \"heatmap\"}], \"heatmapgl\": [{\"colorbar\": {\"outlinewidth\": 0, \"ticks\": \"\"}, \"colorscale\": [[0.0, \"#0d0887\"], [0.1111111111111111, \"#46039f\"], [0.2222222222222222, \"#7201a8\"], [0.3333333333333333, \"#9c179e\"], [0.4444444444444444, \"#bd3786\"], [0.5555555555555556, \"#d8576b\"], [0.6666666666666666, \"#ed7953\"], [0.7777777777777778, \"#fb9f3a\"], [0.8888888888888888, \"#fdca26\"], [1.0, \"#f0f921\"]], \"type\": \"heatmapgl\"}], \"histogram\": [{\"marker\": {\"colorbar\": {\"outlinewidth\": 0, \"ticks\": \"\"}}, \"type\": \"histogram\"}], \"histogram2d\": [{\"colorbar\": {\"outlinewidth\": 0, \"ticks\": \"\"}, \"colorscale\": [[0.0, \"#0d0887\"], [0.1111111111111111, \"#46039f\"], [0.2222222222222222, \"#7201a8\"], [0.3333333333333333, \"#9c179e\"], [0.4444444444444444, \"#bd3786\"], [0.5555555555555556, \"#d8576b\"], [0.6666666666666666, \"#ed7953\"], [0.7777777777777778, \"#fb9f3a\"], [0.8888888888888888, \"#fdca26\"], [1.0, \"#f0f921\"]], \"type\": \"histogram2d\"}], \"histogram2dcontour\": [{\"colorbar\": {\"outlinewidth\": 0, \"ticks\": \"\"}, \"colorscale\": [[0.0, \"#0d0887\"], [0.1111111111111111, \"#46039f\"], [0.2222222222222222, \"#7201a8\"], [0.3333333333333333, \"#9c179e\"], [0.4444444444444444, \"#bd3786\"], [0.5555555555555556, \"#d8576b\"], [0.6666666666666666, \"#ed7953\"], [0.7777777777777778, \"#fb9f3a\"], [0.8888888888888888, \"#fdca26\"], [1.0, \"#f0f921\"]], \"type\": \"histogram2dcontour\"}], \"mesh3d\": [{\"colorbar\": {\"outlinewidth\": 0, \"ticks\": \"\"}, \"type\": \"mesh3d\"}], \"parcoords\": [{\"line\": {\"colorbar\": {\"outlinewidth\": 0, \"ticks\": \"\"}}, \"type\": \"parcoords\"}], \"scatter\": [{\"marker\": {\"colorbar\": {\"outlinewidth\": 0, \"ticks\": \"\"}}, \"type\": \"scatter\"}], \"scatter3d\": [{\"line\": {\"colorbar\": {\"outlinewidth\": 0, \"ticks\": \"\"}}, \"marker\": {\"colorbar\": {\"outlinewidth\": 0, \"ticks\": \"\"}}, \"type\": \"scatter3d\"}], \"scattercarpet\": [{\"marker\": {\"colorbar\": {\"outlinewidth\": 0, \"ticks\": \"\"}}, \"type\": \"scattercarpet\"}], \"scattergeo\": [{\"marker\": {\"colorbar\": {\"outlinewidth\": 0, \"ticks\": \"\"}}, \"type\": \"scattergeo\"}], \"scattergl\": [{\"marker\": {\"colorbar\": {\"outlinewidth\": 0, \"ticks\": \"\"}}, \"type\": \"scattergl\"}], \"scattermapbox\": [{\"marker\": {\"colorbar\": {\"outlinewidth\": 0, \"ticks\": \"\"}}, \"type\": \"scattermapbox\"}], \"scatterpolar\": [{\"marker\": {\"colorbar\": {\"outlinewidth\": 0, \"ticks\": \"\"}}, \"type\": \"scatterpolar\"}], \"scatterpolargl\": [{\"marker\": {\"colorbar\": {\"outlinewidth\": 0, \"ticks\": \"\"}}, \"type\": \"scatterpolargl\"}], \"scatterternary\": [{\"marker\": {\"colorbar\": {\"outlinewidth\": 0, \"ticks\": \"\"}}, \"type\": \"scatterternary\"}], \"surface\": [{\"colorbar\": {\"outlinewidth\": 0, \"ticks\": \"\"}, \"colorscale\": [[0.0, \"#0d0887\"], [0.1111111111111111, \"#46039f\"], [0.2222222222222222, \"#7201a8\"], [0.3333333333333333, \"#9c179e\"], [0.4444444444444444, \"#bd3786\"], [0.5555555555555556, \"#d8576b\"], [0.6666666666666666, \"#ed7953\"], [0.7777777777777778, \"#fb9f3a\"], [0.8888888888888888, \"#fdca26\"], [1.0, \"#f0f921\"]], \"type\": \"surface\"}], \"table\": [{\"cells\": {\"fill\": {\"color\": \"#EBF0F8\"}, \"line\": {\"color\": \"white\"}}, \"header\": {\"fill\": {\"color\": \"#C8D4E3\"}, \"line\": {\"color\": \"white\"}}, \"type\": \"table\"}]}, \"layout\": {\"annotationdefaults\": {\"arrowcolor\": \"#2a3f5f\", \"arrowhead\": 0, \"arrowwidth\": 1}, \"colorscale\": {\"diverging\": [[0, \"#8e0152\"], [0.1, \"#c51b7d\"], [0.2, \"#de77ae\"], [0.3, \"#f1b6da\"], [0.4, \"#fde0ef\"], [0.5, \"#f7f7f7\"], [0.6, \"#e6f5d0\"], [0.7, \"#b8e186\"], [0.8, \"#7fbc41\"], [0.9, \"#4d9221\"], [1, \"#276419\"]], \"sequential\": [[0.0, \"#0d0887\"], [0.1111111111111111, \"#46039f\"], [0.2222222222222222, \"#7201a8\"], [0.3333333333333333, \"#9c179e\"], [0.4444444444444444, \"#bd3786\"], [0.5555555555555556, \"#d8576b\"], [0.6666666666666666, \"#ed7953\"], [0.7777777777777778, \"#fb9f3a\"], [0.8888888888888888, \"#fdca26\"], [1.0, \"#f0f921\"]], \"sequentialminus\": [[0.0, \"#0d0887\"], [0.1111111111111111, \"#46039f\"], [0.2222222222222222, \"#7201a8\"], [0.3333333333333333, \"#9c179e\"], [0.4444444444444444, \"#bd3786\"], [0.5555555555555556, \"#d8576b\"], [0.6666666666666666, \"#ed7953\"], [0.7777777777777778, \"#fb9f3a\"], [0.8888888888888888, \"#fdca26\"], [1.0, \"#f0f921\"]]}, \"colorway\": [\"#636efa\", \"#EF553B\", \"#00cc96\", \"#ab63fa\", \"#FFA15A\", \"#19d3f3\", \"#FF6692\", \"#B6E880\", \"#FF97FF\", \"#FECB52\"], \"font\": {\"color\": \"#2a3f5f\"}, \"geo\": {\"bgcolor\": \"white\", \"lakecolor\": \"white\", \"landcolor\": \"#E5ECF6\", \"showlakes\": true, \"showland\": true, \"subunitcolor\": \"white\"}, \"hoverlabel\": {\"align\": \"left\"}, \"hovermode\": \"closest\", \"mapbox\": {\"style\": \"light\"}, \"paper_bgcolor\": \"white\", \"plot_bgcolor\": \"#E5ECF6\", \"polar\": {\"angularaxis\": {\"gridcolor\": \"white\", \"linecolor\": \"white\", \"ticks\": \"\"}, \"bgcolor\": \"#E5ECF6\", \"radialaxis\": {\"gridcolor\": \"white\", \"linecolor\": \"white\", \"ticks\": \"\"}}, \"scene\": {\"xaxis\": {\"backgroundcolor\": \"#E5ECF6\", \"gridcolor\": \"white\", \"gridwidth\": 2, \"linecolor\": \"white\", \"showbackground\": true, \"ticks\": \"\", \"zerolinecolor\": \"white\"}, \"yaxis\": {\"backgroundcolor\": \"#E5ECF6\", \"gridcolor\": \"white\", \"gridwidth\": 2, \"linecolor\": \"white\", \"showbackground\": true, \"ticks\": \"\", \"zerolinecolor\": \"white\"}, \"zaxis\": {\"backgroundcolor\": \"#E5ECF6\", \"gridcolor\": \"white\", \"gridwidth\": 2, \"linecolor\": \"white\", \"showbackground\": true, \"ticks\": \"\", \"zerolinecolor\": \"white\"}}, \"shapedefaults\": {\"line\": {\"color\": \"#2a3f5f\"}}, \"ternary\": {\"aaxis\": {\"gridcolor\": \"white\", \"linecolor\": \"white\", \"ticks\": \"\"}, \"baxis\": {\"gridcolor\": \"white\", \"linecolor\": \"white\", \"ticks\": \"\"}, \"bgcolor\": \"#E5ECF6\", \"caxis\": {\"gridcolor\": \"white\", \"linecolor\": \"white\", \"ticks\": \"\"}}, \"title\": {\"x\": 0.05}, \"xaxis\": {\"automargin\": true, \"gridcolor\": \"white\", \"linecolor\": \"white\", \"ticks\": \"\", \"zerolinecolor\": \"white\", \"zerolinewidth\": 2}, \"yaxis\": {\"automargin\": true, \"gridcolor\": \"white\", \"linecolor\": \"white\", \"ticks\": \"\", \"zerolinecolor\": \"white\", \"zerolinewidth\": 2}}}, \"title\": {\"text\": \"Cluster\"}},\n",
       "                        {\"responsive\": true}\n",
       "                    ).then(function(){\n",
       "                            \n",
       "var gd = document.getElementById('5f96e1c2-808b-46fd-9f15-ce77e3c114f7');\n",
       "var x = new MutationObserver(function (mutations, observer) {{\n",
       "        var display = window.getComputedStyle(gd).display;\n",
       "        if (!display || display === 'none') {{\n",
       "            console.log([gd, 'removed!']);\n",
       "            Plotly.purge(gd);\n",
       "            observer.disconnect();\n",
       "        }}\n",
       "}});\n",
       "\n",
       "// Listen for the removal of the full notebook cells\n",
       "var notebookContainer = gd.closest('#notebook-container');\n",
       "if (notebookContainer) {{\n",
       "    x.observe(notebookContainer, {childList: true});\n",
       "}}\n",
       "\n",
       "// Listen for the clearing of the current output cell\n",
       "var outputEl = gd.closest('.output');\n",
       "if (outputEl) {{\n",
       "    x.observe(outputEl, {childList: true});\n",
       "}}\n",
       "\n",
       "                        })\n",
       "                };\n",
       "                });\n",
       "            </script>\n",
       "        </div>"
      ]
     },
     "metadata": {},
     "output_type": "display_data"
    }
   ],
   "source": [
    "import plotly as py\n",
    "import plotly.graph_objs as go\n",
    "labels = clustering(age_income_spending, 5)['labels'][0]\n",
    "trace = go.Scatter3d(\n",
    "    x = X['Age'],\n",
    "    y = X['Spending_Score'],\n",
    "    z = X['Annual_Income'],\n",
    "    mode = 'markers',\n",
    "    marker = dict(color = labels, size = 20,\n",
    "    line = dict(color = labels)),\n",
    "    opacity = 0.8\n",
    ")\n",
    "\n",
    "data = [trace]\n",
    "layout = go.Layout(\n",
    "    title = 'Cluster',\n",
    "    scene = dict(\n",
    "            xaxis = dict(title  = 'Age'),\n",
    "            yaxis = dict(title  = 'Spending Score'),\n",
    "            zaxis = dict(title  = 'Annual Income')\n",
    "        ))\n",
    "fig = go.Figure(data=data, layout=layout)\n",
    "py.offline.iplot(fig)\n",
    "plt.show()"
   ]
  },
  {
   "cell_type": "code",
   "execution_count": null,
   "metadata": {},
   "outputs": [],
   "source": []
  }
 ],
 "metadata": {
  "kernelspec": {
   "display_name": "Python 3",
   "language": "python",
   "name": "python3"
  },
  "language_info": {
   "codemirror_mode": {
    "name": "ipython",
    "version": 3
   },
   "file_extension": ".py",
   "mimetype": "text/x-python",
   "name": "python",
   "nbconvert_exporter": "python",
   "pygments_lexer": "ipython3",
   "version": "3.6.4"
  }
 },
 "nbformat": 4,
 "nbformat_minor": 2
}
